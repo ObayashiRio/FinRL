{
 "cells": [
  {
   "cell_type": "markdown",
   "metadata": {
    "id": "Sy8r7_g5WjAT"
   },
   "source": [
    "# Stock NeurIPS2018 Part 1. Data\n",
    "This series is a reproduction of paper *the process in the paper Practical Deep Reinforcement Learning Approach for Stock Trading*. \n",
    "\n",
    "This is the first part of the NeurIPS2018 series, introducing how to use FinRL to fetch and process data that we need for ML/RL trading.\n",
    "\n",
    "Other demos can be found at the repo of [FinRL-Tutorials]((https://github.com/AI4Finance-Foundation/FinRL-Tutorials))."
   ]
  },
  {
   "cell_type": "markdown",
   "metadata": {
    "id": "2uH1KXctgnoJ"
   },
   "source": [
    "# Part 1. Install Packages"
   ]
  },
  {
   "cell_type": "code",
   "execution_count": 5,
   "metadata": {
    "id": "a2oD49e_N_05"
   },
   "outputs": [
    {
     "name": "stdout",
     "output_type": "stream",
     "text": [
      "Collecting git+https://github.com/AI4Finance-Foundation/FinRL.git\n",
      "  Cloning https://github.com/AI4Finance-Foundation/FinRL.git to /private/var/folders/tp/098qqpfn1r77_knlyqsp_kfm0000gn/T/pip-req-build-0z9hbnn5\n",
      "  Running command git clone --filter=blob:none --quiet https://github.com/AI4Finance-Foundation/FinRL.git /private/var/folders/tp/098qqpfn1r77_knlyqsp_kfm0000gn/T/pip-req-build-0z9hbnn5\n",
      "  Resolved https://github.com/AI4Finance-Foundation/FinRL.git to commit c2386a7483e6736d53c99c4b56ae5e855fec37ab\n",
      "  Installing build dependencies ... \u001b[?25ldone\n",
      "\u001b[?25h  Getting requirements to build wheel ... \u001b[?25ldone\n",
      "\u001b[?25h  Preparing metadata (pyproject.toml) ... \u001b[?25ldone\n",
      "\u001b[?25hCollecting elegantrl@ git+https://github.com/AI4Finance-Foundation/ElegantRL.git (from finrl==0.3.8)\n",
      "  Cloning https://github.com/AI4Finance-Foundation/ElegantRL.git to /private/var/folders/tp/098qqpfn1r77_knlyqsp_kfm0000gn/T/pip-install-ull9yf4f/elegantrl_27bdf2cc66d64783ae979abc1c4141d7\n",
      "  Running command git clone --filter=blob:none --quiet https://github.com/AI4Finance-Foundation/ElegantRL.git /private/var/folders/tp/098qqpfn1r77_knlyqsp_kfm0000gn/T/pip-install-ull9yf4f/elegantrl_27bdf2cc66d64783ae979abc1c4141d7\n",
      "  Resolved https://github.com/AI4Finance-Foundation/ElegantRL.git to commit 8ea76afc3e7f1564ae9f0e69e70254116d575fe9\n",
      "  Preparing metadata (setup.py) ... \u001b[?25ldone\n",
      "\u001b[?25hRequirement already satisfied: alpaca-py<0.38,>=0.37 in /opt/anaconda3/lib/python3.11/site-packages (from finrl==0.3.8) (0.37.0)\n",
      "Requirement already satisfied: alpaca-trade-api<4,>=3 in /opt/anaconda3/lib/python3.11/site-packages (from finrl==0.3.8) (3.2.0)\n",
      "Requirement already satisfied: ccxt<4,>=3 in /opt/anaconda3/lib/python3.11/site-packages (from finrl==0.3.8) (3.1.60)\n",
      "Requirement already satisfied: jqdatasdk<2,>=1 in /opt/anaconda3/lib/python3.11/site-packages (from finrl==0.3.8) (1.9.7)\n",
      "Requirement already satisfied: pyfolio-reloaded<0.10,>=0.9 in /opt/anaconda3/lib/python3.11/site-packages (from finrl==0.3.8) (0.9.9)\n",
      "Requirement already satisfied: pyportfolioopt<2,>=1 in /opt/anaconda3/lib/python3.11/site-packages (from finrl==0.3.8) (1.5.6)\n",
      "Requirement already satisfied: ray<3,>=2 in /opt/anaconda3/lib/python3.11/site-packages (from ray[default,tune]<3,>=2->finrl==0.3.8) (2.46.0)\n",
      "Requirement already satisfied: scikit-learn<2,>=1 in /opt/anaconda3/lib/python3.11/site-packages (from finrl==0.3.8) (1.6.1)\n",
      "Requirement already satisfied: selenium<5,>=4 in /opt/anaconda3/lib/python3.11/site-packages (from finrl==0.3.8) (4.32.0)\n",
      "Requirement already satisfied: stable-baselines3>=2.0.0a5 in /opt/anaconda3/lib/python3.11/site-packages (from stable-baselines3[extra]>=2.0.0a5->finrl==0.3.8) (2.6.1a1)\n",
      "Requirement already satisfied: stockstats<0.6,>=0.5 in /opt/anaconda3/lib/python3.11/site-packages (from finrl==0.3.8) (0.5.4)\n",
      "Requirement already satisfied: webdriver-manager<5,>=4 in /opt/anaconda3/lib/python3.11/site-packages (from finrl==0.3.8) (4.0.2)\n",
      "Requirement already satisfied: wrds<4,>=3 in /opt/anaconda3/lib/python3.11/site-packages (from finrl==0.3.8) (3.3.0)\n",
      "Requirement already satisfied: yfinance<0.3,>=0.2 in /opt/anaconda3/lib/python3.11/site-packages (from finrl==0.3.8) (0.2.58)\n",
      "Requirement already satisfied: msgpack<2.0.0,>=1.0.3 in /opt/anaconda3/lib/python3.11/site-packages (from alpaca-py<0.38,>=0.37->finrl==0.3.8) (1.0.3)\n",
      "Requirement already satisfied: pandas>=1.5.3 in /opt/anaconda3/lib/python3.11/site-packages (from alpaca-py<0.38,>=0.37->finrl==0.3.8) (2.2.3)\n",
      "Requirement already satisfied: pydantic<3.0.0,>=2.0.3 in /opt/anaconda3/lib/python3.11/site-packages (from alpaca-py<0.38,>=0.37->finrl==0.3.8) (2.11.5)\n",
      "Requirement already satisfied: requests<3.0.0,>=2.30.0 in /opt/anaconda3/lib/python3.11/site-packages (from alpaca-py<0.38,>=0.37->finrl==0.3.8) (2.31.0)\n",
      "Requirement already satisfied: sseclient-py<2.0.0,>=1.7.2 in /opt/anaconda3/lib/python3.11/site-packages (from alpaca-py<0.38,>=0.37->finrl==0.3.8) (1.8.0)\n",
      "Requirement already satisfied: websockets>=10.4 in /opt/anaconda3/lib/python3.11/site-packages (from alpaca-py<0.38,>=0.37->finrl==0.3.8) (10.4)\n",
      "Requirement already satisfied: numpy>=1.11.1 in /opt/anaconda3/lib/python3.11/site-packages (from alpaca-trade-api<4,>=3->finrl==0.3.8) (1.26.4)\n",
      "Requirement already satisfied: urllib3<2,>1.24 in /opt/anaconda3/lib/python3.11/site-packages (from alpaca-trade-api<4,>=3->finrl==0.3.8) (1.26.20)\n",
      "Requirement already satisfied: websocket-client<2,>=0.56.0 in /opt/anaconda3/lib/python3.11/site-packages (from alpaca-trade-api<4,>=3->finrl==0.3.8) (1.8.0)\n",
      "Requirement already satisfied: aiohttp<4,>=3.8.3 in /opt/anaconda3/lib/python3.11/site-packages (from alpaca-trade-api<4,>=3->finrl==0.3.8) (3.9.3)\n",
      "Requirement already satisfied: PyYAML==6.0.1 in /opt/anaconda3/lib/python3.11/site-packages (from alpaca-trade-api<4,>=3->finrl==0.3.8) (6.0.1)\n",
      "Requirement already satisfied: deprecation==2.1.0 in /opt/anaconda3/lib/python3.11/site-packages (from alpaca-trade-api<4,>=3->finrl==0.3.8) (2.1.0)\n",
      "Requirement already satisfied: packaging in /opt/anaconda3/lib/python3.11/site-packages (from deprecation==2.1.0->alpaca-trade-api<4,>=3->finrl==0.3.8) (23.1)\n",
      "Requirement already satisfied: setuptools>=60.9.0 in /opt/anaconda3/lib/python3.11/site-packages (from ccxt<4,>=3->finrl==0.3.8) (68.2.2)\n",
      "Requirement already satisfied: certifi>=2018.1.18 in /opt/anaconda3/lib/python3.11/site-packages (from ccxt<4,>=3->finrl==0.3.8) (2024.2.2)\n",
      "Requirement already satisfied: cryptography>=2.6.1 in /opt/anaconda3/lib/python3.11/site-packages (from ccxt<4,>=3->finrl==0.3.8) (42.0.2)\n",
      "Requirement already satisfied: aiodns>=1.1.1 in /opt/anaconda3/lib/python3.11/site-packages (from ccxt<4,>=3->finrl==0.3.8) (3.4.0)\n",
      "Requirement already satisfied: yarl>=1.7.2 in /opt/anaconda3/lib/python3.11/site-packages (from ccxt<4,>=3->finrl==0.3.8) (1.9.3)\n",
      "Requirement already satisfied: six in /opt/anaconda3/lib/python3.11/site-packages (from jqdatasdk<2,>=1->finrl==0.3.8) (1.16.0)\n",
      "Requirement already satisfied: SQLAlchemy>=1.2.8 in /opt/anaconda3/lib/python3.11/site-packages (from jqdatasdk<2,>=1->finrl==0.3.8) (2.0.25)\n",
      "Requirement already satisfied: pymysql>=0.7.6 in /opt/anaconda3/lib/python3.11/site-packages (from jqdatasdk<2,>=1->finrl==0.3.8) (1.1.1)\n",
      "Requirement already satisfied: thriftpy2!=0.5.1,>=0.3.9 in /opt/anaconda3/lib/python3.11/site-packages (from jqdatasdk<2,>=1->finrl==0.3.8) (0.5.2)\n",
      "Requirement already satisfied: ipython>=3.2.3 in /opt/anaconda3/lib/python3.11/site-packages (from pyfolio-reloaded<0.10,>=0.9->finrl==0.3.8) (8.20.0)\n",
      "Requirement already satisfied: matplotlib>=1.4.0 in /opt/anaconda3/lib/python3.11/site-packages (from pyfolio-reloaded<0.10,>=0.9->finrl==0.3.8) (3.10.3)\n",
      "Requirement already satisfied: pytz>=2014.10 in /opt/anaconda3/lib/python3.11/site-packages (from pyfolio-reloaded<0.10,>=0.9->finrl==0.3.8) (2023.3.post1)\n",
      "Requirement already satisfied: scipy>=0.14.0 in /opt/anaconda3/lib/python3.11/site-packages (from pyfolio-reloaded<0.10,>=0.9->finrl==0.3.8) (1.13.0)\n",
      "Requirement already satisfied: seaborn>=0.7.1 in /opt/anaconda3/lib/python3.11/site-packages (from pyfolio-reloaded<0.10,>=0.9->finrl==0.3.8) (0.12.2)\n",
      "Requirement already satisfied: empyrical-reloaded>=0.5.9 in /opt/anaconda3/lib/python3.11/site-packages (from pyfolio-reloaded<0.10,>=0.9->finrl==0.3.8) (0.5.12)\n",
      "Requirement already satisfied: cvxpy>=1.1.19 in /opt/anaconda3/lib/python3.11/site-packages (from pyportfolioopt<2,>=1->finrl==0.3.8) (1.6.5)\n",
      "Requirement already satisfied: ecos<3.0.0,>=2.0.14 in /opt/anaconda3/lib/python3.11/site-packages (from pyportfolioopt<2,>=1->finrl==0.3.8) (2.0.14)\n",
      "Requirement already satisfied: plotly<6.0.0,>=5.0.0 in /opt/anaconda3/lib/python3.11/site-packages (from pyportfolioopt<2,>=1->finrl==0.3.8) (5.9.0)\n",
      "Requirement already satisfied: click>=7.0 in /opt/anaconda3/lib/python3.11/site-packages (from ray<3,>=2->ray[default,tune]<3,>=2->finrl==0.3.8) (8.1.7)\n",
      "Requirement already satisfied: filelock in /opt/anaconda3/lib/python3.11/site-packages (from ray<3,>=2->ray[default,tune]<3,>=2->finrl==0.3.8) (3.13.1)\n",
      "Requirement already satisfied: jsonschema in /opt/anaconda3/lib/python3.11/site-packages (from ray<3,>=2->ray[default,tune]<3,>=2->finrl==0.3.8) (4.19.2)\n",
      "Requirement already satisfied: protobuf!=3.19.5,>=3.15.3 in /opt/anaconda3/lib/python3.11/site-packages (from ray<3,>=2->ray[default,tune]<3,>=2->finrl==0.3.8) (5.29.4)\n",
      "Requirement already satisfied: aiohttp-cors in /opt/anaconda3/lib/python3.11/site-packages (from ray[default,tune]<3,>=2->finrl==0.3.8) (0.8.1)\n",
      "Requirement already satisfied: colorful in /opt/anaconda3/lib/python3.11/site-packages (from ray[default,tune]<3,>=2->finrl==0.3.8) (0.5.6)\n",
      "Requirement already satisfied: opencensus in /opt/anaconda3/lib/python3.11/site-packages (from ray[default,tune]<3,>=2->finrl==0.3.8) (0.11.4)\n",
      "Requirement already satisfied: prometheus-client>=0.7.1 in /opt/anaconda3/lib/python3.11/site-packages (from ray[default,tune]<3,>=2->finrl==0.3.8) (0.14.1)\n",
      "Requirement already satisfied: smart-open in /opt/anaconda3/lib/python3.11/site-packages (from ray[default,tune]<3,>=2->finrl==0.3.8) (5.2.1)\n",
      "Requirement already satisfied: virtualenv!=20.21.1,>=20.0.24 in /opt/anaconda3/lib/python3.11/site-packages (from ray[default,tune]<3,>=2->finrl==0.3.8) (20.31.2)\n",
      "Requirement already satisfied: py-spy>=0.2.0 in /opt/anaconda3/lib/python3.11/site-packages (from ray[default,tune]<3,>=2->finrl==0.3.8) (0.4.0)\n",
      "Requirement already satisfied: grpcio>=1.42.0 in /opt/anaconda3/lib/python3.11/site-packages (from ray[default,tune]<3,>=2->finrl==0.3.8) (1.71.0)\n",
      "Requirement already satisfied: tensorboardX>=1.9 in /opt/anaconda3/lib/python3.11/site-packages (from ray[default,tune]<3,>=2->finrl==0.3.8) (2.6.2.2)\n",
      "Requirement already satisfied: pyarrow>=9.0.0 in /opt/anaconda3/lib/python3.11/site-packages (from ray[default,tune]<3,>=2->finrl==0.3.8) (14.0.2)\n",
      "Requirement already satisfied: fsspec in /opt/anaconda3/lib/python3.11/site-packages (from ray[default,tune]<3,>=2->finrl==0.3.8) (2023.10.0)\n",
      "Requirement already satisfied: joblib>=1.2.0 in /opt/anaconda3/lib/python3.11/site-packages (from scikit-learn<2,>=1->finrl==0.3.8) (1.2.0)\n",
      "Requirement already satisfied: threadpoolctl>=3.1.0 in /opt/anaconda3/lib/python3.11/site-packages (from scikit-learn<2,>=1->finrl==0.3.8) (3.6.0)\n",
      "Requirement already satisfied: trio~=0.17 in /opt/anaconda3/lib/python3.11/site-packages (from selenium<5,>=4->finrl==0.3.8) (0.30.0)\n",
      "Requirement already satisfied: trio-websocket~=0.9 in /opt/anaconda3/lib/python3.11/site-packages (from selenium<5,>=4->finrl==0.3.8) (0.12.2)\n",
      "Requirement already satisfied: typing_extensions~=4.9 in /opt/anaconda3/lib/python3.11/site-packages (from selenium<5,>=4->finrl==0.3.8) (4.14.0)\n",
      "Requirement already satisfied: gymnasium<1.2.0,>=0.29.1 in /opt/anaconda3/lib/python3.11/site-packages (from stable-baselines3>=2.0.0a5->stable-baselines3[extra]>=2.0.0a5->finrl==0.3.8) (1.1.1)\n",
      "Requirement already satisfied: torch<3.0,>=2.3 in /opt/anaconda3/lib/python3.11/site-packages (from stable-baselines3>=2.0.0a5->stable-baselines3[extra]>=2.0.0a5->finrl==0.3.8) (2.5.1)\n",
      "Requirement already satisfied: cloudpickle in /opt/anaconda3/lib/python3.11/site-packages (from stable-baselines3>=2.0.0a5->stable-baselines3[extra]>=2.0.0a5->finrl==0.3.8) (2.2.1)\n",
      "Requirement already satisfied: opencv-python in /opt/anaconda3/lib/python3.11/site-packages (from stable-baselines3[extra]>=2.0.0a5->finrl==0.3.8) (4.10.0.82)\n",
      "Requirement already satisfied: pygame in /opt/anaconda3/lib/python3.11/site-packages (from stable-baselines3[extra]>=2.0.0a5->finrl==0.3.8) (2.6.1)\n",
      "Requirement already satisfied: tensorboard>=2.9.1 in /opt/anaconda3/lib/python3.11/site-packages (from stable-baselines3[extra]>=2.0.0a5->finrl==0.3.8) (2.19.0)\n",
      "Requirement already satisfied: psutil in /opt/anaconda3/lib/python3.11/site-packages (from stable-baselines3[extra]>=2.0.0a5->finrl==0.3.8) (5.9.0)\n",
      "Requirement already satisfied: tqdm in /opt/anaconda3/lib/python3.11/site-packages (from stable-baselines3[extra]>=2.0.0a5->finrl==0.3.8) (4.67.1)\n",
      "Requirement already satisfied: rich in /opt/anaconda3/lib/python3.11/site-packages (from stable-baselines3[extra]>=2.0.0a5->finrl==0.3.8) (13.3.5)\n",
      "Requirement already satisfied: ale-py>=0.9.0 in /opt/anaconda3/lib/python3.11/site-packages (from stable-baselines3[extra]>=2.0.0a5->finrl==0.3.8) (0.11.1)\n",
      "Requirement already satisfied: pillow in /opt/anaconda3/lib/python3.11/site-packages (from stable-baselines3[extra]>=2.0.0a5->finrl==0.3.8) (10.2.0)\n",
      "Requirement already satisfied: python-dotenv in /opt/anaconda3/lib/python3.11/site-packages (from webdriver-manager<5,>=4->finrl==0.3.8) (0.21.0)\n",
      "Requirement already satisfied: psycopg2-binary<2.10,>=2.9 in /opt/anaconda3/lib/python3.11/site-packages (from wrds<4,>=3->finrl==0.3.8) (2.9.10)\n",
      "Requirement already satisfied: multitasking>=0.0.7 in /opt/anaconda3/lib/python3.11/site-packages (from yfinance<0.3,>=0.2->finrl==0.3.8) (0.0.11)\n",
      "Requirement already satisfied: platformdirs>=2.0.0 in /opt/anaconda3/lib/python3.11/site-packages (from yfinance<0.3,>=0.2->finrl==0.3.8) (3.10.0)\n",
      "Requirement already satisfied: frozendict>=2.3.4 in /opt/anaconda3/lib/python3.11/site-packages (from yfinance<0.3,>=0.2->finrl==0.3.8) (2.4.2)\n",
      "Requirement already satisfied: peewee>=3.16.2 in /opt/anaconda3/lib/python3.11/site-packages (from yfinance<0.3,>=0.2->finrl==0.3.8) (3.17.3)\n",
      "Requirement already satisfied: beautifulsoup4>=4.11.1 in /opt/anaconda3/lib/python3.11/site-packages (from yfinance<0.3,>=0.2->finrl==0.3.8) (4.12.2)\n",
      "Requirement already satisfied: curl_cffi>=0.7 in /opt/anaconda3/lib/python3.11/site-packages (from yfinance<0.3,>=0.2->finrl==0.3.8) (0.10.0)\n",
      "Requirement already satisfied: th in /opt/anaconda3/lib/python3.11/site-packages (from elegantrl@ git+https://github.com/AI4Finance-Foundation/ElegantRL.git->finrl==0.3.8) (0.4.1)\n",
      "Requirement already satisfied: pycares>=4.0.0 in /opt/anaconda3/lib/python3.11/site-packages (from aiodns>=1.1.1->ccxt<4,>=3->finrl==0.3.8) (4.8.0)\n",
      "Requirement already satisfied: aiosignal>=1.1.2 in /opt/anaconda3/lib/python3.11/site-packages (from aiohttp<4,>=3.8.3->alpaca-trade-api<4,>=3->finrl==0.3.8) (1.2.0)\n",
      "Requirement already satisfied: attrs>=17.3.0 in /opt/anaconda3/lib/python3.11/site-packages (from aiohttp<4,>=3.8.3->alpaca-trade-api<4,>=3->finrl==0.3.8) (25.3.0)\n",
      "Requirement already satisfied: frozenlist>=1.1.1 in /opt/anaconda3/lib/python3.11/site-packages (from aiohttp<4,>=3.8.3->alpaca-trade-api<4,>=3->finrl==0.3.8) (1.4.0)\n",
      "Requirement already satisfied: multidict<7.0,>=4.5 in /opt/anaconda3/lib/python3.11/site-packages (from aiohttp<4,>=3.8.3->alpaca-trade-api<4,>=3->finrl==0.3.8) (6.0.4)\n",
      "Requirement already satisfied: soupsieve>1.2 in /opt/anaconda3/lib/python3.11/site-packages (from beautifulsoup4>=4.11.1->yfinance<0.3,>=0.2->finrl==0.3.8) (2.5)\n",
      "Requirement already satisfied: cffi>=1.12 in /opt/anaconda3/lib/python3.11/site-packages (from cryptography>=2.6.1->ccxt<4,>=3->finrl==0.3.8) (1.16.0)\n",
      "Requirement already satisfied: osqp>=0.6.2 in /opt/anaconda3/lib/python3.11/site-packages (from cvxpy>=1.1.19->pyportfolioopt<2,>=1->finrl==0.3.8) (1.0.4)\n",
      "Requirement already satisfied: clarabel>=0.5.0 in /opt/anaconda3/lib/python3.11/site-packages (from cvxpy>=1.1.19->pyportfolioopt<2,>=1->finrl==0.3.8) (0.11.0)\n",
      "Requirement already satisfied: scs>=3.2.4.post1 in /opt/anaconda3/lib/python3.11/site-packages (from cvxpy>=1.1.19->pyportfolioopt<2,>=1->finrl==0.3.8) (3.2.7.post2)\n",
      "Requirement already satisfied: bottleneck>=1.3.0 in /opt/anaconda3/lib/python3.11/site-packages (from empyrical-reloaded>=0.5.9->pyfolio-reloaded<0.10,>=0.9->finrl==0.3.8) (1.3.7)\n",
      "Requirement already satisfied: farama-notifications>=0.0.1 in /opt/anaconda3/lib/python3.11/site-packages (from gymnasium<1.2.0,>=0.29.1->stable-baselines3>=2.0.0a5->stable-baselines3[extra]>=2.0.0a5->finrl==0.3.8) (0.0.4)\n",
      "Requirement already satisfied: decorator in /opt/anaconda3/lib/python3.11/site-packages (from ipython>=3.2.3->pyfolio-reloaded<0.10,>=0.9->finrl==0.3.8) (5.1.1)\n",
      "Requirement already satisfied: jedi>=0.16 in /opt/anaconda3/lib/python3.11/site-packages (from ipython>=3.2.3->pyfolio-reloaded<0.10,>=0.9->finrl==0.3.8) (0.18.1)\n",
      "Requirement already satisfied: matplotlib-inline in /opt/anaconda3/lib/python3.11/site-packages (from ipython>=3.2.3->pyfolio-reloaded<0.10,>=0.9->finrl==0.3.8) (0.1.6)\n",
      "Requirement already satisfied: prompt-toolkit<3.1.0,>=3.0.41 in /opt/anaconda3/lib/python3.11/site-packages (from ipython>=3.2.3->pyfolio-reloaded<0.10,>=0.9->finrl==0.3.8) (3.0.43)\n",
      "Requirement already satisfied: pygments>=2.4.0 in /opt/anaconda3/lib/python3.11/site-packages (from ipython>=3.2.3->pyfolio-reloaded<0.10,>=0.9->finrl==0.3.8) (2.15.1)\n",
      "Requirement already satisfied: stack-data in /opt/anaconda3/lib/python3.11/site-packages (from ipython>=3.2.3->pyfolio-reloaded<0.10,>=0.9->finrl==0.3.8) (0.2.0)\n",
      "Requirement already satisfied: traitlets>=5 in /opt/anaconda3/lib/python3.11/site-packages (from ipython>=3.2.3->pyfolio-reloaded<0.10,>=0.9->finrl==0.3.8) (5.7.1)\n",
      "Requirement already satisfied: pexpect>4.3 in /opt/anaconda3/lib/python3.11/site-packages (from ipython>=3.2.3->pyfolio-reloaded<0.10,>=0.9->finrl==0.3.8) (4.8.0)\n",
      "Requirement already satisfied: contourpy>=1.0.1 in /opt/anaconda3/lib/python3.11/site-packages (from matplotlib>=1.4.0->pyfolio-reloaded<0.10,>=0.9->finrl==0.3.8) (1.2.0)\n",
      "Requirement already satisfied: cycler>=0.10 in /opt/anaconda3/lib/python3.11/site-packages (from matplotlib>=1.4.0->pyfolio-reloaded<0.10,>=0.9->finrl==0.3.8) (0.11.0)\n",
      "Requirement already satisfied: fonttools>=4.22.0 in /opt/anaconda3/lib/python3.11/site-packages (from matplotlib>=1.4.0->pyfolio-reloaded<0.10,>=0.9->finrl==0.3.8) (4.25.0)\n",
      "Requirement already satisfied: kiwisolver>=1.3.1 in /opt/anaconda3/lib/python3.11/site-packages (from matplotlib>=1.4.0->pyfolio-reloaded<0.10,>=0.9->finrl==0.3.8) (1.4.4)\n",
      "Requirement already satisfied: pyparsing>=2.3.1 in /opt/anaconda3/lib/python3.11/site-packages (from matplotlib>=1.4.0->pyfolio-reloaded<0.10,>=0.9->finrl==0.3.8) (3.0.9)\n",
      "Requirement already satisfied: python-dateutil>=2.7 in /opt/anaconda3/lib/python3.11/site-packages (from matplotlib>=1.4.0->pyfolio-reloaded<0.10,>=0.9->finrl==0.3.8) (2.8.2)\n",
      "Requirement already satisfied: tzdata>=2022.7 in /opt/anaconda3/lib/python3.11/site-packages (from pandas>=1.5.3->alpaca-py<0.38,>=0.37->finrl==0.3.8) (2023.3)\n",
      "Requirement already satisfied: tenacity>=6.2.0 in /opt/anaconda3/lib/python3.11/site-packages (from plotly<6.0.0,>=5.0.0->pyportfolioopt<2,>=1->finrl==0.3.8) (8.2.2)\n",
      "Requirement already satisfied: annotated-types>=0.6.0 in /opt/anaconda3/lib/python3.11/site-packages (from pydantic<3.0.0,>=2.0.3->alpaca-py<0.38,>=0.37->finrl==0.3.8) (0.7.0)\n",
      "Requirement already satisfied: pydantic-core==2.33.2 in /opt/anaconda3/lib/python3.11/site-packages (from pydantic<3.0.0,>=2.0.3->alpaca-py<0.38,>=0.37->finrl==0.3.8) (2.33.2)\n",
      "Requirement already satisfied: typing-inspection>=0.4.0 in /opt/anaconda3/lib/python3.11/site-packages (from pydantic<3.0.0,>=2.0.3->alpaca-py<0.38,>=0.37->finrl==0.3.8) (0.4.1)\n",
      "Requirement already satisfied: charset-normalizer<4,>=2 in /opt/anaconda3/lib/python3.11/site-packages (from requests<3.0.0,>=2.30.0->alpaca-py<0.38,>=0.37->finrl==0.3.8) (2.0.4)\n",
      "Requirement already satisfied: idna<4,>=2.5 in /opt/anaconda3/lib/python3.11/site-packages (from requests<3.0.0,>=2.30.0->alpaca-py<0.38,>=0.37->finrl==0.3.8) (3.4)\n",
      "Requirement already satisfied: absl-py>=0.4 in /opt/anaconda3/lib/python3.11/site-packages (from tensorboard>=2.9.1->stable-baselines3[extra]>=2.0.0a5->finrl==0.3.8) (2.2.2)\n",
      "Requirement already satisfied: markdown>=2.6.8 in /opt/anaconda3/lib/python3.11/site-packages (from tensorboard>=2.9.1->stable-baselines3[extra]>=2.0.0a5->finrl==0.3.8) (3.4.1)\n",
      "Requirement already satisfied: tensorboard-data-server<0.8.0,>=0.7.0 in /opt/anaconda3/lib/python3.11/site-packages (from tensorboard>=2.9.1->stable-baselines3[extra]>=2.0.0a5->finrl==0.3.8) (0.7.2)\n",
      "Requirement already satisfied: werkzeug>=1.0.1 in /opt/anaconda3/lib/python3.11/site-packages (from tensorboard>=2.9.1->stable-baselines3[extra]>=2.0.0a5->finrl==0.3.8) (2.2.3)\n",
      "Requirement already satisfied: Cython>=3.0.10 in /opt/anaconda3/lib/python3.11/site-packages (from thriftpy2!=0.5.1,>=0.3.9->jqdatasdk<2,>=1->finrl==0.3.8) (3.1.1)\n",
      "Requirement already satisfied: ply<4.0,>=3.4 in /opt/anaconda3/lib/python3.11/site-packages (from thriftpy2!=0.5.1,>=0.3.9->jqdatasdk<2,>=1->finrl==0.3.8) (3.11)\n",
      "Requirement already satisfied: networkx in /opt/anaconda3/lib/python3.11/site-packages (from torch<3.0,>=2.3->stable-baselines3>=2.0.0a5->stable-baselines3[extra]>=2.0.0a5->finrl==0.3.8) (3.1)\n",
      "Requirement already satisfied: jinja2 in /opt/anaconda3/lib/python3.11/site-packages (from torch<3.0,>=2.3->stable-baselines3>=2.0.0a5->stable-baselines3[extra]>=2.0.0a5->finrl==0.3.8) (3.1.3)\n",
      "Requirement already satisfied: sympy==1.13.1 in /opt/anaconda3/lib/python3.11/site-packages (from torch<3.0,>=2.3->stable-baselines3>=2.0.0a5->stable-baselines3[extra]>=2.0.0a5->finrl==0.3.8) (1.13.1)\n",
      "Requirement already satisfied: mpmath<1.4,>=1.1.0 in /opt/anaconda3/lib/python3.11/site-packages (from sympy==1.13.1->torch<3.0,>=2.3->stable-baselines3>=2.0.0a5->stable-baselines3[extra]>=2.0.0a5->finrl==0.3.8) (1.3.0)\n",
      "Requirement already satisfied: sortedcontainers in /opt/anaconda3/lib/python3.11/site-packages (from trio~=0.17->selenium<5,>=4->finrl==0.3.8) (2.4.0)\n",
      "Requirement already satisfied: outcome in /opt/anaconda3/lib/python3.11/site-packages (from trio~=0.17->selenium<5,>=4->finrl==0.3.8) (1.3.0.post0)\n",
      "Requirement already satisfied: sniffio>=1.3.0 in /opt/anaconda3/lib/python3.11/site-packages (from trio~=0.17->selenium<5,>=4->finrl==0.3.8) (1.3.0)\n",
      "Requirement already satisfied: wsproto>=0.14 in /opt/anaconda3/lib/python3.11/site-packages (from trio-websocket~=0.9->selenium<5,>=4->finrl==0.3.8) (1.2.0)\n",
      "Requirement already satisfied: PySocks!=1.5.7,<2.0,>=1.5.6 in /opt/anaconda3/lib/python3.11/site-packages (from urllib3[socks]<3,>=1.26->selenium<5,>=4->finrl==0.3.8) (1.7.1)\n",
      "Requirement already satisfied: distlib<1,>=0.3.7 in /opt/anaconda3/lib/python3.11/site-packages (from virtualenv!=20.21.1,>=20.0.24->ray[default,tune]<3,>=2->finrl==0.3.8) (0.3.9)\n",
      "Requirement already satisfied: jsonschema-specifications>=2023.03.6 in /opt/anaconda3/lib/python3.11/site-packages (from jsonschema->ray<3,>=2->ray[default,tune]<3,>=2->finrl==0.3.8) (2023.7.1)\n",
      "Requirement already satisfied: referencing>=0.28.4 in /opt/anaconda3/lib/python3.11/site-packages (from jsonschema->ray<3,>=2->ray[default,tune]<3,>=2->finrl==0.3.8) (0.30.2)\n",
      "Requirement already satisfied: rpds-py>=0.7.1 in /opt/anaconda3/lib/python3.11/site-packages (from jsonschema->ray<3,>=2->ray[default,tune]<3,>=2->finrl==0.3.8) (0.10.6)\n",
      "Requirement already satisfied: opencensus-context>=0.1.3 in /opt/anaconda3/lib/python3.11/site-packages (from opencensus->ray[default,tune]<3,>=2->finrl==0.3.8) (0.1.3)\n",
      "Requirement already satisfied: google-api-core<3.0.0,>=1.0.0 in /opt/anaconda3/lib/python3.11/site-packages (from opencensus->ray[default,tune]<3,>=2->finrl==0.3.8) (2.25.0)\n",
      "Requirement already satisfied: markdown-it-py<3.0.0,>=2.2.0 in /opt/anaconda3/lib/python3.11/site-packages (from rich->stable-baselines3[extra]>=2.0.0a5->finrl==0.3.8) (2.2.0)\n",
      "Requirement already satisfied: niltype<2.0,>=0.3 in /opt/anaconda3/lib/python3.11/site-packages (from th->elegantrl@ git+https://github.com/AI4Finance-Foundation/ElegantRL.git->finrl==0.3.8) (1.0.2)\n",
      "Requirement already satisfied: pycparser in /opt/anaconda3/lib/python3.11/site-packages (from cffi>=1.12->cryptography>=2.6.1->ccxt<4,>=3->finrl==0.3.8) (2.21)\n",
      "Requirement already satisfied: googleapis-common-protos<2.0.0,>=1.56.2 in /opt/anaconda3/lib/python3.11/site-packages (from google-api-core<3.0.0,>=1.0.0->opencensus->ray[default,tune]<3,>=2->finrl==0.3.8) (1.70.0)\n",
      "Requirement already satisfied: proto-plus<2.0.0,>=1.22.3 in /opt/anaconda3/lib/python3.11/site-packages (from google-api-core<3.0.0,>=1.0.0->opencensus->ray[default,tune]<3,>=2->finrl==0.3.8) (1.26.1)\n",
      "Requirement already satisfied: google-auth<3.0.0,>=2.14.1 in /opt/anaconda3/lib/python3.11/site-packages (from google-api-core<3.0.0,>=1.0.0->opencensus->ray[default,tune]<3,>=2->finrl==0.3.8) (2.40.3)\n",
      "Requirement already satisfied: parso<0.9.0,>=0.8.0 in /opt/anaconda3/lib/python3.11/site-packages (from jedi>=0.16->ipython>=3.2.3->pyfolio-reloaded<0.10,>=0.9->finrl==0.3.8) (0.8.3)\n",
      "Requirement already satisfied: mdurl~=0.1 in /opt/anaconda3/lib/python3.11/site-packages (from markdown-it-py<3.0.0,>=2.2.0->rich->stable-baselines3[extra]>=2.0.0a5->finrl==0.3.8) (0.1.0)\n",
      "Requirement already satisfied: ptyprocess>=0.5 in /opt/anaconda3/lib/python3.11/site-packages (from pexpect>4.3->ipython>=3.2.3->pyfolio-reloaded<0.10,>=0.9->finrl==0.3.8) (0.7.0)\n",
      "Requirement already satisfied: wcwidth in /opt/anaconda3/lib/python3.11/site-packages (from prompt-toolkit<3.1.0,>=3.0.41->ipython>=3.2.3->pyfolio-reloaded<0.10,>=0.9->finrl==0.3.8) (0.2.5)\n",
      "Requirement already satisfied: MarkupSafe>=2.1.1 in /opt/anaconda3/lib/python3.11/site-packages (from werkzeug>=1.0.1->tensorboard>=2.9.1->stable-baselines3[extra]>=2.0.0a5->finrl==0.3.8) (2.1.3)\n",
      "Requirement already satisfied: h11<1,>=0.9.0 in /opt/anaconda3/lib/python3.11/site-packages (from wsproto>=0.14->trio-websocket~=0.9->selenium<5,>=4->finrl==0.3.8) (0.14.0)\n",
      "Requirement already satisfied: executing in /opt/anaconda3/lib/python3.11/site-packages (from stack-data->ipython>=3.2.3->pyfolio-reloaded<0.10,>=0.9->finrl==0.3.8) (0.8.3)\n",
      "Requirement already satisfied: asttokens in /opt/anaconda3/lib/python3.11/site-packages (from stack-data->ipython>=3.2.3->pyfolio-reloaded<0.10,>=0.9->finrl==0.3.8) (2.0.5)\n",
      "Requirement already satisfied: pure-eval in /opt/anaconda3/lib/python3.11/site-packages (from stack-data->ipython>=3.2.3->pyfolio-reloaded<0.10,>=0.9->finrl==0.3.8) (0.2.2)\n",
      "Requirement already satisfied: cachetools<6.0,>=2.0.0 in /opt/anaconda3/lib/python3.11/site-packages (from google-auth<3.0.0,>=2.14.1->google-api-core<3.0.0,>=1.0.0->opencensus->ray[default,tune]<3,>=2->finrl==0.3.8) (4.2.2)\n",
      "Requirement already satisfied: pyasn1-modules>=0.2.1 in /opt/anaconda3/lib/python3.11/site-packages (from google-auth<3.0.0,>=2.14.1->google-api-core<3.0.0,>=1.0.0->opencensus->ray[default,tune]<3,>=2->finrl==0.3.8) (0.2.8)\n",
      "Requirement already satisfied: rsa<5,>=3.1.4 in /opt/anaconda3/lib/python3.11/site-packages (from google-auth<3.0.0,>=2.14.1->google-api-core<3.0.0,>=1.0.0->opencensus->ray[default,tune]<3,>=2->finrl==0.3.8) (4.9.1)\n",
      "Requirement already satisfied: pyasn1<0.5.0,>=0.4.6 in /opt/anaconda3/lib/python3.11/site-packages (from pyasn1-modules>=0.2.1->google-auth<3.0.0,>=2.14.1->google-api-core<3.0.0,>=1.0.0->opencensus->ray[default,tune]<3,>=2->finrl==0.3.8) (0.4.8)\n"
     ]
    }
   ],
   "source": [
    "## install finrl library\n",
    "!pip install git+https://github.com/AI4Finance-Foundation/FinRL.git"
   ]
  },
  {
   "cell_type": "code",
   "execution_count": 6,
   "metadata": {
    "id": "j37flV31OJGW"
   },
   "outputs": [],
   "source": [
    "import pandas as pd\n",
    "import yfinance as yf\n",
    "\n",
    "from finrl.meta.preprocessor.yahoodownloader import YahooDownloader\n",
    "from finrl.meta.preprocessor.preprocessors import FeatureEngineer, data_split\n",
    "from finrl import config_tickers\n",
    "from finrl.config import INDICATORS\n",
    "from finrl.config import *\n",
    "import itertools"
   ]
  },
  {
   "cell_type": "markdown",
   "metadata": {
    "id": "wxsN8i7tg07U"
   },
   "source": [
    "# Part 2. Fetch data"
   ]
  },
  {
   "cell_type": "markdown",
   "metadata": {
    "id": "fMNm9tCMXy8J"
   },
   "source": [
    "[yfinance](https://github.com/ranaroussi/yfinance) is an open-source library that provides APIs fetching historical data form Yahoo Finance. In FinRL, we have a class called [YahooDownloader](https://github.com/AI4Finance-Foundation/FinRL/blob/master/finrl/meta/preprocessor/yahoodownloader.py) that use yfinance to fetch data from Yahoo Finance."
   ]
  },
  {
   "cell_type": "markdown",
   "metadata": {
    "id": "CWVXUkzaZE8m"
   },
   "source": [
    "**OHLCV**: Data downloaded are in the form of OHLCV, corresponding to **open, high, low, close, volume,** respectively. OHLCV is important because they contain most of numerical information of a stock in time series. From OHLCV, traders can get further judgement and prediction like the momentum, people's interest, market trends, etc."
   ]
  },
  {
   "cell_type": "markdown",
   "metadata": {
    "id": "jRYlbdMpW9Np"
   },
   "source": [
    "## Data for a single ticker"
   ]
  },
  {
   "cell_type": "markdown",
   "metadata": {
    "id": "1wo6pCQYXDbz"
   },
   "source": [
    "Here we provide two ways to fetch data with single ticker, let's take Apple Inc. (AAPL) as an example."
   ]
  },
  {
   "cell_type": "markdown",
   "metadata": {
    "id": "yzVRe90WXLB1"
   },
   "source": [
    "### Using yfinance"
   ]
  },
  {
   "cell_type": "code",
   "execution_count": 7,
   "metadata": {
    "colab": {
     "base_uri": "https://localhost:8080/"
    },
    "id": "SSl6mVV7XNw6",
    "outputId": "460c06eb-c71d-4ebb-fe17-481295d70cff"
   },
   "outputs": [
    {
     "name": "stdout",
     "output_type": "stream",
     "text": [
      "YF.download() has changed argument auto_adjust default to True\n"
     ]
    },
    {
     "name": "stderr",
     "output_type": "stream",
     "text": [
      "[*********************100%***********************]  1 of 1 completed\n"
     ]
    }
   ],
   "source": [
    "TRAIN_START_DATE = '2020-01-01'\n",
    "TRADE_END_DATE = '2020-01-31'\n",
    "aapl_df_yf = yf.download(tickers = \"aapl\", start=TRAIN_START_DATE, end=TRADE_END_DATE)"
   ]
  },
  {
   "cell_type": "code",
   "execution_count": 8,
   "metadata": {
    "colab": {
     "base_uri": "https://localhost:8080/",
     "height": 238
    },
    "id": "Rjutz22rXrpR",
    "outputId": "62aadc8c-b854-403d-ac73-6cf86d53fa22"
   },
   "outputs": [
    {
     "data": {
      "text/html": [
       "<div>\n",
       "<style scoped>\n",
       "    .dataframe tbody tr th:only-of-type {\n",
       "        vertical-align: middle;\n",
       "    }\n",
       "\n",
       "    .dataframe tbody tr th {\n",
       "        vertical-align: top;\n",
       "    }\n",
       "\n",
       "    .dataframe thead tr th {\n",
       "        text-align: left;\n",
       "    }\n",
       "\n",
       "    .dataframe thead tr:last-of-type th {\n",
       "        text-align: right;\n",
       "    }\n",
       "</style>\n",
       "<table border=\"1\" class=\"dataframe\">\n",
       "  <thead>\n",
       "    <tr>\n",
       "      <th>Price</th>\n",
       "      <th>Close</th>\n",
       "      <th>High</th>\n",
       "      <th>Low</th>\n",
       "      <th>Open</th>\n",
       "      <th>Volume</th>\n",
       "    </tr>\n",
       "    <tr>\n",
       "      <th>Ticker</th>\n",
       "      <th>AAPL</th>\n",
       "      <th>AAPL</th>\n",
       "      <th>AAPL</th>\n",
       "      <th>AAPL</th>\n",
       "      <th>AAPL</th>\n",
       "    </tr>\n",
       "    <tr>\n",
       "      <th>Date</th>\n",
       "      <th></th>\n",
       "      <th></th>\n",
       "      <th></th>\n",
       "      <th></th>\n",
       "      <th></th>\n",
       "    </tr>\n",
       "  </thead>\n",
       "  <tbody>\n",
       "    <tr>\n",
       "      <th>2020-01-02</th>\n",
       "      <td>72.620834</td>\n",
       "      <td>72.681281</td>\n",
       "      <td>71.373211</td>\n",
       "      <td>71.627084</td>\n",
       "      <td>135480400</td>\n",
       "    </tr>\n",
       "    <tr>\n",
       "      <th>2020-01-03</th>\n",
       "      <td>71.914818</td>\n",
       "      <td>72.676447</td>\n",
       "      <td>71.689957</td>\n",
       "      <td>71.847118</td>\n",
       "      <td>146322800</td>\n",
       "    </tr>\n",
       "    <tr>\n",
       "      <th>2020-01-06</th>\n",
       "      <td>72.487854</td>\n",
       "      <td>72.526541</td>\n",
       "      <td>70.783256</td>\n",
       "      <td>71.034717</td>\n",
       "      <td>118387200</td>\n",
       "    </tr>\n",
       "    <tr>\n",
       "      <th>2020-01-07</th>\n",
       "      <td>72.146942</td>\n",
       "      <td>72.753823</td>\n",
       "      <td>71.926915</td>\n",
       "      <td>72.497529</td>\n",
       "      <td>108872000</td>\n",
       "    </tr>\n",
       "    <tr>\n",
       "      <th>2020-01-08</th>\n",
       "      <td>73.307526</td>\n",
       "      <td>73.609760</td>\n",
       "      <td>71.849548</td>\n",
       "      <td>71.849548</td>\n",
       "      <td>132079200</td>\n",
       "    </tr>\n",
       "  </tbody>\n",
       "</table>\n",
       "</div>"
      ],
      "text/plain": [
       "Price           Close       High        Low       Open     Volume\n",
       "Ticker           AAPL       AAPL       AAPL       AAPL       AAPL\n",
       "Date                                                             \n",
       "2020-01-02  72.620834  72.681281  71.373211  71.627084  135480400\n",
       "2020-01-03  71.914818  72.676447  71.689957  71.847118  146322800\n",
       "2020-01-06  72.487854  72.526541  70.783256  71.034717  118387200\n",
       "2020-01-07  72.146942  72.753823  71.926915  72.497529  108872000\n",
       "2020-01-08  73.307526  73.609760  71.849548  71.849548  132079200"
      ]
     },
     "execution_count": 8,
     "metadata": {},
     "output_type": "execute_result"
    }
   ],
   "source": [
    "aapl_df_yf.head()"
   ]
  },
  {
   "cell_type": "markdown",
   "metadata": {
    "id": "fHZLDmnsXOK0"
   },
   "source": [
    "### Using FinRL"
   ]
  },
  {
   "cell_type": "markdown",
   "metadata": {
    "id": "VFB77ohNbXCc"
   },
   "source": [
    "In FinRL's YahooDownloader, we modified the data frame to the form that convenient for further data processing process. We use adjusted close price instead of close price, and add a column representing the day of a week (0-4 corresponding to Monday-Friday)."
   ]
  },
  {
   "cell_type": "code",
   "execution_count": 9,
   "metadata": {
    "colab": {
     "base_uri": "https://localhost:8080/"
    },
    "id": "7ufDHvt4XBWT",
    "outputId": "41603042-4f14-4814-c569-305d85fa7f9d"
   },
   "outputs": [
    {
     "name": "stdout",
     "output_type": "stream",
     "text": [
      "YF deprecation warning: set proxy via new config function: yf.set_config(proxy=proxy)\n"
     ]
    },
    {
     "name": "stderr",
     "output_type": "stream",
     "text": [
      "[*********************100%***********************]  1 of 1 completed"
     ]
    },
    {
     "name": "stdout",
     "output_type": "stream",
     "text": [
      "Shape of DataFrame:  (146, 8)\n"
     ]
    },
    {
     "name": "stderr",
     "output_type": "stream",
     "text": [
      "\n"
     ]
    }
   ],
   "source": [
    "aapl_df_finrl = YahooDownloader(start_date = TRAIN_START_DATE,\n",
    "                                end_date = TRAIN_END_DATE,\n",
    "                                ticker_list = ['aapl']).fetch_data()"
   ]
  },
  {
   "cell_type": "code",
   "execution_count": 10,
   "metadata": {
    "colab": {
     "base_uri": "https://localhost:8080/",
     "height": 206
    },
    "id": "_TgEjXxhXtT_",
    "outputId": "a8e8a9e2-a1ea-472e-eddf-2227e6c901d8"
   },
   "outputs": [
    {
     "data": {
      "text/html": [
       "<div>\n",
       "<style scoped>\n",
       "    .dataframe tbody tr th:only-of-type {\n",
       "        vertical-align: middle;\n",
       "    }\n",
       "\n",
       "    .dataframe tbody tr th {\n",
       "        vertical-align: top;\n",
       "    }\n",
       "\n",
       "    .dataframe thead th {\n",
       "        text-align: right;\n",
       "    }\n",
       "</style>\n",
       "<table border=\"1\" class=\"dataframe\">\n",
       "  <thead>\n",
       "    <tr style=\"text-align: right;\">\n",
       "      <th>Price</th>\n",
       "      <th>date</th>\n",
       "      <th>close</th>\n",
       "      <th>high</th>\n",
       "      <th>low</th>\n",
       "      <th>open</th>\n",
       "      <th>volume</th>\n",
       "      <th>tic</th>\n",
       "      <th>day</th>\n",
       "    </tr>\n",
       "  </thead>\n",
       "  <tbody>\n",
       "    <tr>\n",
       "      <th>0</th>\n",
       "      <td>2020-01-02</td>\n",
       "      <td>72.620850</td>\n",
       "      <td>72.681296</td>\n",
       "      <td>71.373226</td>\n",
       "      <td>71.627100</td>\n",
       "      <td>135480400</td>\n",
       "      <td>aapl</td>\n",
       "      <td>3</td>\n",
       "    </tr>\n",
       "    <tr>\n",
       "      <th>1</th>\n",
       "      <td>2020-01-03</td>\n",
       "      <td>71.914795</td>\n",
       "      <td>72.676423</td>\n",
       "      <td>71.689935</td>\n",
       "      <td>71.847095</td>\n",
       "      <td>146322800</td>\n",
       "      <td>aapl</td>\n",
       "      <td>4</td>\n",
       "    </tr>\n",
       "    <tr>\n",
       "      <th>2</th>\n",
       "      <td>2020-01-06</td>\n",
       "      <td>72.487854</td>\n",
       "      <td>72.526541</td>\n",
       "      <td>70.783256</td>\n",
       "      <td>71.034717</td>\n",
       "      <td>118387200</td>\n",
       "      <td>aapl</td>\n",
       "      <td>0</td>\n",
       "    </tr>\n",
       "    <tr>\n",
       "      <th>3</th>\n",
       "      <td>2020-01-07</td>\n",
       "      <td>72.146950</td>\n",
       "      <td>72.753831</td>\n",
       "      <td>71.926922</td>\n",
       "      <td>72.497537</td>\n",
       "      <td>108872000</td>\n",
       "      <td>aapl</td>\n",
       "      <td>1</td>\n",
       "    </tr>\n",
       "    <tr>\n",
       "      <th>4</th>\n",
       "      <td>2020-01-08</td>\n",
       "      <td>73.307526</td>\n",
       "      <td>73.609760</td>\n",
       "      <td>71.849548</td>\n",
       "      <td>71.849548</td>\n",
       "      <td>132079200</td>\n",
       "      <td>aapl</td>\n",
       "      <td>2</td>\n",
       "    </tr>\n",
       "  </tbody>\n",
       "</table>\n",
       "</div>"
      ],
      "text/plain": [
       "Price        date      close       high        low       open     volume  \\\n",
       "0      2020-01-02  72.620850  72.681296  71.373226  71.627100  135480400   \n",
       "1      2020-01-03  71.914795  72.676423  71.689935  71.847095  146322800   \n",
       "2      2020-01-06  72.487854  72.526541  70.783256  71.034717  118387200   \n",
       "3      2020-01-07  72.146950  72.753831  71.926922  72.497537  108872000   \n",
       "4      2020-01-08  73.307526  73.609760  71.849548  71.849548  132079200   \n",
       "\n",
       "Price   tic  day  \n",
       "0      aapl    3  \n",
       "1      aapl    4  \n",
       "2      aapl    0  \n",
       "3      aapl    1  \n",
       "4      aapl    2  "
      ]
     },
     "execution_count": 10,
     "metadata": {},
     "output_type": "execute_result"
    }
   ],
   "source": [
    "aapl_df_finrl.head()"
   ]
  },
  {
   "cell_type": "markdown",
   "metadata": {
    "id": "9kcOE5nbic6R"
   },
   "source": [
    "## Data for the chosen tickers"
   ]
  },
  {
   "cell_type": "code",
   "execution_count": 11,
   "metadata": {
    "colab": {
     "base_uri": "https://localhost:8080/"
    },
    "id": "FKBjtAo2uIq5",
    "outputId": "927f682a-9cc3-4c11-c3f1-094ae811af6b"
   },
   "outputs": [
    {
     "data": {
      "text/plain": [
       "['AXP',\n",
       " 'AMGN',\n",
       " 'AAPL',\n",
       " 'BA',\n",
       " 'CAT',\n",
       " 'CSCO',\n",
       " 'CVX',\n",
       " 'GS',\n",
       " 'HD',\n",
       " 'HON',\n",
       " 'IBM',\n",
       " 'INTC',\n",
       " 'JNJ',\n",
       " 'KO',\n",
       " 'JPM',\n",
       " 'MCD',\n",
       " 'MMM',\n",
       " 'MRK',\n",
       " 'MSFT',\n",
       " 'NKE',\n",
       " 'PG',\n",
       " 'TRV',\n",
       " 'UNH',\n",
       " 'CRM',\n",
       " 'VZ',\n",
       " 'V',\n",
       " 'WBA',\n",
       " 'WMT',\n",
       " 'DIS',\n",
       " 'DOW']"
      ]
     },
     "execution_count": 11,
     "metadata": {},
     "output_type": "execute_result"
    }
   ],
   "source": [
    "config_tickers.DOW_30_TICKER"
   ]
  },
  {
   "cell_type": "code",
   "execution_count": 12,
   "metadata": {
    "id": "9xTPG4Fhc-zL"
   },
   "outputs": [],
   "source": [
    "TRAIN_START_DATE = '2009-01-01'\n",
    "TRAIN_END_DATE = '2020-07-01'\n",
    "TRADE_START_DATE = '2020-07-01'\n",
    "TRADE_END_DATE = '2021-10-29'"
   ]
  },
  {
   "cell_type": "code",
   "execution_count": 13,
   "metadata": {
    "colab": {
     "base_uri": "https://localhost:8080/"
    },
    "id": "9LblMI8CO0F3",
    "outputId": "7be76385-50eb-4e8d-f2e5-1795d77b70ba"
   },
   "outputs": [
    {
     "name": "stderr",
     "output_type": "stream",
     "text": [
      "[*********************100%***********************]  1 of 1 completed\n",
      "[*********************100%***********************]  1 of 1 completed\n",
      "[*********************100%***********************]  1 of 1 completed\n",
      "[*********************100%***********************]  1 of 1 completed\n",
      "[*********************100%***********************]  1 of 1 completed\n",
      "[*********************100%***********************]  1 of 1 completed\n",
      "[*********************100%***********************]  1 of 1 completed\n",
      "[*********************100%***********************]  1 of 1 completed\n",
      "[*********************100%***********************]  1 of 1 completed\n",
      "[*********************100%***********************]  1 of 1 completed\n",
      "[*********************100%***********************]  1 of 1 completed\n",
      "[*********************100%***********************]  1 of 1 completed\n",
      "[*********************100%***********************]  1 of 1 completed\n",
      "[*********************100%***********************]  1 of 1 completed\n",
      "[*********************100%***********************]  1 of 1 completed\n",
      "[*********************100%***********************]  1 of 1 completed\n",
      "[*********************100%***********************]  1 of 1 completed\n",
      "[*********************100%***********************]  1 of 1 completed\n",
      "[*********************100%***********************]  1 of 1 completed\n",
      "[*********************100%***********************]  1 of 1 completed\n",
      "[*********************100%***********************]  1 of 1 completed\n",
      "[*********************100%***********************]  1 of 1 completed\n",
      "[*********************100%***********************]  1 of 1 completed\n",
      "[*********************100%***********************]  1 of 1 completed\n",
      "[*********************100%***********************]  1 of 1 completed\n",
      "[*********************100%***********************]  1 of 1 completed\n",
      "[*********************100%***********************]  1 of 1 completed\n",
      "[*********************100%***********************]  1 of 1 completed\n",
      "[*********************100%***********************]  1 of 1 completed\n",
      "[*********************100%***********************]  1 of 1 completed\n"
     ]
    },
    {
     "name": "stdout",
     "output_type": "stream",
     "text": [
      "Shape of DataFrame:  (94301, 8)\n"
     ]
    }
   ],
   "source": [
    "df_raw = YahooDownloader(start_date = TRAIN_START_DATE,\n",
    "                     end_date = TRADE_END_DATE,\n",
    "                     ticker_list = config_tickers.DOW_30_TICKER).fetch_data()"
   ]
  },
  {
   "cell_type": "code",
   "execution_count": 14,
   "metadata": {
    "colab": {
     "base_uri": "https://localhost:8080/",
     "height": 206
    },
    "id": "RD9cjHzt8X3A",
    "outputId": "051acda5-c8fd-440a-a5af-6be04cfdc018"
   },
   "outputs": [
    {
     "data": {
      "text/html": [
       "<div>\n",
       "<style scoped>\n",
       "    .dataframe tbody tr th:only-of-type {\n",
       "        vertical-align: middle;\n",
       "    }\n",
       "\n",
       "    .dataframe tbody tr th {\n",
       "        vertical-align: top;\n",
       "    }\n",
       "\n",
       "    .dataframe thead th {\n",
       "        text-align: right;\n",
       "    }\n",
       "</style>\n",
       "<table border=\"1\" class=\"dataframe\">\n",
       "  <thead>\n",
       "    <tr style=\"text-align: right;\">\n",
       "      <th>Price</th>\n",
       "      <th>date</th>\n",
       "      <th>close</th>\n",
       "      <th>high</th>\n",
       "      <th>low</th>\n",
       "      <th>open</th>\n",
       "      <th>volume</th>\n",
       "      <th>tic</th>\n",
       "      <th>day</th>\n",
       "    </tr>\n",
       "  </thead>\n",
       "  <tbody>\n",
       "    <tr>\n",
       "      <th>0</th>\n",
       "      <td>2009-01-02</td>\n",
       "      <td>2.727417</td>\n",
       "      <td>2.736133</td>\n",
       "      <td>2.559414</td>\n",
       "      <td>2.581053</td>\n",
       "      <td>746015200</td>\n",
       "      <td>AAPL</td>\n",
       "      <td>4</td>\n",
       "    </tr>\n",
       "    <tr>\n",
       "      <th>1</th>\n",
       "      <td>2009-01-02</td>\n",
       "      <td>40.791466</td>\n",
       "      <td>40.853701</td>\n",
       "      <td>39.934007</td>\n",
       "      <td>40.514866</td>\n",
       "      <td>6547900</td>\n",
       "      <td>AMGN</td>\n",
       "      <td>4</td>\n",
       "    </tr>\n",
       "    <tr>\n",
       "      <th>2</th>\n",
       "      <td>2009-01-02</td>\n",
       "      <td>14.929296</td>\n",
       "      <td>15.076040</td>\n",
       "      <td>14.211021</td>\n",
       "      <td>14.342318</td>\n",
       "      <td>10955700</td>\n",
       "      <td>AXP</td>\n",
       "      <td>4</td>\n",
       "    </tr>\n",
       "    <tr>\n",
       "      <th>3</th>\n",
       "      <td>2009-01-02</td>\n",
       "      <td>33.941105</td>\n",
       "      <td>34.173631</td>\n",
       "      <td>32.088407</td>\n",
       "      <td>32.103409</td>\n",
       "      <td>7010200</td>\n",
       "      <td>BA</td>\n",
       "      <td>4</td>\n",
       "    </tr>\n",
       "    <tr>\n",
       "      <th>4</th>\n",
       "      <td>2009-01-02</td>\n",
       "      <td>30.344681</td>\n",
       "      <td>30.389962</td>\n",
       "      <td>28.921566</td>\n",
       "      <td>29.050940</td>\n",
       "      <td>7117200</td>\n",
       "      <td>CAT</td>\n",
       "      <td>4</td>\n",
       "    </tr>\n",
       "  </tbody>\n",
       "</table>\n",
       "</div>"
      ],
      "text/plain": [
       "Price        date      close       high        low       open     volume  \\\n",
       "0      2009-01-02   2.727417   2.736133   2.559414   2.581053  746015200   \n",
       "1      2009-01-02  40.791466  40.853701  39.934007  40.514866    6547900   \n",
       "2      2009-01-02  14.929296  15.076040  14.211021  14.342318   10955700   \n",
       "3      2009-01-02  33.941105  34.173631  32.088407  32.103409    7010200   \n",
       "4      2009-01-02  30.344681  30.389962  28.921566  29.050940    7117200   \n",
       "\n",
       "Price   tic  day  \n",
       "0      AAPL    4  \n",
       "1      AMGN    4  \n",
       "2       AXP    4  \n",
       "3        BA    4  \n",
       "4       CAT    4  "
      ]
     },
     "execution_count": 14,
     "metadata": {},
     "output_type": "execute_result"
    }
   ],
   "source": [
    "df_raw.head()"
   ]
  },
  {
   "cell_type": "markdown",
   "metadata": {
    "id": "uqC6c40Zh1iH"
   },
   "source": [
    "# Part 3: Preprocess Data\n",
    "We need to check for missing data and do feature engineering to convert the data point into a state.\n",
    "* **Adding technical indicators**. In practical trading, various information needs to be taken into account, such as historical prices, current holding shares, technical indicators, etc. Here, we demonstrate two trend-following technical indicators: MACD and RSI.\n",
    "* **Adding turbulence index**. Risk-aversion reflects whether an investor prefers to protect the capital. It also influences one's trading strategy when facing different market volatility level. To control the risk in a worst-case scenario, such as financial crisis of 2007–2008, FinRL employs the turbulence index that measures extreme fluctuation of asset price."
   ]
  },
  {
   "cell_type": "markdown",
   "metadata": {
    "id": "1lQxLyWpdbAd"
   },
   "source": [
    "Hear let's take **MACD** as an example. Moving average convergence/divergence (MACD) is one of the most commonly used indicator showing bull and bear market. Its calculation is based on EMA (Exponential Moving Average indicator, measuring trend direction over a period of time.)"
   ]
  },
  {
   "cell_type": "code",
   "execution_count": 15,
   "metadata": {
    "colab": {
     "base_uri": "https://localhost:8080/"
    },
    "id": "PmKP-1ii3RLS",
    "outputId": "d514cf1a-8609-402e-ad58-df5f9100ec85"
   },
   "outputs": [
    {
     "name": "stdout",
     "output_type": "stream",
     "text": [
      "Successfully added technical indicators\n"
     ]
    },
    {
     "name": "stderr",
     "output_type": "stream",
     "text": [
      "[*********************100%***********************]  1 of 1 completed\n"
     ]
    },
    {
     "name": "stdout",
     "output_type": "stream",
     "text": [
      "Shape of DataFrame:  (3228, 8)\n",
      "Successfully added vix\n",
      "Successfully added turbulence index\n"
     ]
    }
   ],
   "source": [
    "fe = FeatureEngineer(use_technical_indicator=True,\n",
    "                     tech_indicator_list = INDICATORS,\n",
    "                     use_vix=True,\n",
    "                     use_turbulence=True,\n",
    "                     user_defined_feature = False)\n",
    "\n",
    "processed = fe.preprocess_data(df_raw)"
   ]
  },
  {
   "cell_type": "code",
   "execution_count": 16,
   "metadata": {
    "id": "Kixon2tR3RLT"
   },
   "outputs": [],
   "source": [
    "list_ticker = processed[\"tic\"].unique().tolist()\n",
    "list_date = list(pd.date_range(processed['date'].min(),processed['date'].max()).astype(str))\n",
    "combination = list(itertools.product(list_date,list_ticker))\n",
    "\n",
    "processed_full = pd.DataFrame(combination,columns=[\"date\",\"tic\"]).merge(processed,on=[\"date\",\"tic\"],how=\"left\")\n",
    "processed_full = processed_full[processed_full['date'].isin(processed['date'])]\n",
    "processed_full = processed_full.sort_values(['date','tic'])\n",
    "\n",
    "processed_full = processed_full.fillna(0)"
   ]
  },
  {
   "cell_type": "code",
   "execution_count": 17,
   "metadata": {
    "colab": {
     "base_uri": "https://localhost:8080/",
     "height": 357
    },
    "id": "HwKJNWJSabNK",
    "outputId": "16c8080e-91b0-4e8d-9a09-44939ac69801"
   },
   "outputs": [
    {
     "data": {
      "text/html": [
       "<div>\n",
       "<style scoped>\n",
       "    .dataframe tbody tr th:only-of-type {\n",
       "        vertical-align: middle;\n",
       "    }\n",
       "\n",
       "    .dataframe tbody tr th {\n",
       "        vertical-align: top;\n",
       "    }\n",
       "\n",
       "    .dataframe thead th {\n",
       "        text-align: right;\n",
       "    }\n",
       "</style>\n",
       "<table border=\"1\" class=\"dataframe\">\n",
       "  <thead>\n",
       "    <tr style=\"text-align: right;\">\n",
       "      <th></th>\n",
       "      <th>date</th>\n",
       "      <th>tic</th>\n",
       "      <th>close</th>\n",
       "      <th>high</th>\n",
       "      <th>low</th>\n",
       "      <th>open</th>\n",
       "      <th>volume</th>\n",
       "      <th>day</th>\n",
       "      <th>macd</th>\n",
       "      <th>boll_ub</th>\n",
       "      <th>boll_lb</th>\n",
       "      <th>rsi_30</th>\n",
       "      <th>cci_30</th>\n",
       "      <th>dx_30</th>\n",
       "      <th>close_30_sma</th>\n",
       "      <th>close_60_sma</th>\n",
       "      <th>vix</th>\n",
       "      <th>turbulence</th>\n",
       "    </tr>\n",
       "  </thead>\n",
       "  <tbody>\n",
       "    <tr>\n",
       "      <th>0</th>\n",
       "      <td>2009-01-02</td>\n",
       "      <td>AAPL</td>\n",
       "      <td>2.727417</td>\n",
       "      <td>2.736133</td>\n",
       "      <td>2.559414</td>\n",
       "      <td>2.581053</td>\n",
       "      <td>746015200.0</td>\n",
       "      <td>4.0</td>\n",
       "      <td>0.0</td>\n",
       "      <td>2.947758</td>\n",
       "      <td>2.622183</td>\n",
       "      <td>100.0</td>\n",
       "      <td>66.666667</td>\n",
       "      <td>100.0</td>\n",
       "      <td>2.727417</td>\n",
       "      <td>2.727417</td>\n",
       "      <td>39.189999</td>\n",
       "      <td>0.0</td>\n",
       "    </tr>\n",
       "    <tr>\n",
       "      <th>1</th>\n",
       "      <td>2009-01-02</td>\n",
       "      <td>AMGN</td>\n",
       "      <td>40.791466</td>\n",
       "      <td>40.853701</td>\n",
       "      <td>39.934007</td>\n",
       "      <td>40.514866</td>\n",
       "      <td>6547900.0</td>\n",
       "      <td>4.0</td>\n",
       "      <td>0.0</td>\n",
       "      <td>2.947758</td>\n",
       "      <td>2.622183</td>\n",
       "      <td>100.0</td>\n",
       "      <td>66.666667</td>\n",
       "      <td>100.0</td>\n",
       "      <td>40.791466</td>\n",
       "      <td>40.791466</td>\n",
       "      <td>39.189999</td>\n",
       "      <td>0.0</td>\n",
       "    </tr>\n",
       "    <tr>\n",
       "      <th>2</th>\n",
       "      <td>2009-01-02</td>\n",
       "      <td>AXP</td>\n",
       "      <td>14.929296</td>\n",
       "      <td>15.076040</td>\n",
       "      <td>14.211021</td>\n",
       "      <td>14.342318</td>\n",
       "      <td>10955700.0</td>\n",
       "      <td>4.0</td>\n",
       "      <td>0.0</td>\n",
       "      <td>2.947758</td>\n",
       "      <td>2.622183</td>\n",
       "      <td>100.0</td>\n",
       "      <td>66.666667</td>\n",
       "      <td>100.0</td>\n",
       "      <td>14.929296</td>\n",
       "      <td>14.929296</td>\n",
       "      <td>39.189999</td>\n",
       "      <td>0.0</td>\n",
       "    </tr>\n",
       "    <tr>\n",
       "      <th>3</th>\n",
       "      <td>2009-01-02</td>\n",
       "      <td>BA</td>\n",
       "      <td>33.941105</td>\n",
       "      <td>34.173631</td>\n",
       "      <td>32.088407</td>\n",
       "      <td>32.103409</td>\n",
       "      <td>7010200.0</td>\n",
       "      <td>4.0</td>\n",
       "      <td>0.0</td>\n",
       "      <td>2.947758</td>\n",
       "      <td>2.622183</td>\n",
       "      <td>100.0</td>\n",
       "      <td>66.666667</td>\n",
       "      <td>100.0</td>\n",
       "      <td>33.941105</td>\n",
       "      <td>33.941105</td>\n",
       "      <td>39.189999</td>\n",
       "      <td>0.0</td>\n",
       "    </tr>\n",
       "    <tr>\n",
       "      <th>4</th>\n",
       "      <td>2009-01-02</td>\n",
       "      <td>CAT</td>\n",
       "      <td>30.344681</td>\n",
       "      <td>30.389962</td>\n",
       "      <td>28.921566</td>\n",
       "      <td>29.050940</td>\n",
       "      <td>7117200.0</td>\n",
       "      <td>4.0</td>\n",
       "      <td>0.0</td>\n",
       "      <td>2.947758</td>\n",
       "      <td>2.622183</td>\n",
       "      <td>100.0</td>\n",
       "      <td>66.666667</td>\n",
       "      <td>100.0</td>\n",
       "      <td>30.344681</td>\n",
       "      <td>30.344681</td>\n",
       "      <td>39.189999</td>\n",
       "      <td>0.0</td>\n",
       "    </tr>\n",
       "  </tbody>\n",
       "</table>\n",
       "</div>"
      ],
      "text/plain": [
       "         date   tic      close       high        low       open       volume  \\\n",
       "0  2009-01-02  AAPL   2.727417   2.736133   2.559414   2.581053  746015200.0   \n",
       "1  2009-01-02  AMGN  40.791466  40.853701  39.934007  40.514866    6547900.0   \n",
       "2  2009-01-02   AXP  14.929296  15.076040  14.211021  14.342318   10955700.0   \n",
       "3  2009-01-02    BA  33.941105  34.173631  32.088407  32.103409    7010200.0   \n",
       "4  2009-01-02   CAT  30.344681  30.389962  28.921566  29.050940    7117200.0   \n",
       "\n",
       "   day  macd   boll_ub   boll_lb  rsi_30     cci_30  dx_30  close_30_sma  \\\n",
       "0  4.0   0.0  2.947758  2.622183   100.0  66.666667  100.0      2.727417   \n",
       "1  4.0   0.0  2.947758  2.622183   100.0  66.666667  100.0     40.791466   \n",
       "2  4.0   0.0  2.947758  2.622183   100.0  66.666667  100.0     14.929296   \n",
       "3  4.0   0.0  2.947758  2.622183   100.0  66.666667  100.0     33.941105   \n",
       "4  4.0   0.0  2.947758  2.622183   100.0  66.666667  100.0     30.344681   \n",
       "\n",
       "   close_60_sma        vix  turbulence  \n",
       "0      2.727417  39.189999         0.0  \n",
       "1     40.791466  39.189999         0.0  \n",
       "2     14.929296  39.189999         0.0  \n",
       "3     33.941105  39.189999         0.0  \n",
       "4     30.344681  39.189999         0.0  "
      ]
     },
     "execution_count": 17,
     "metadata": {},
     "output_type": "execute_result"
    }
   ],
   "source": [
    "processed_full.head()"
   ]
  },
  {
   "cell_type": "markdown",
   "metadata": {
    "id": "ydLNxwdPIJhW"
   },
   "source": [
    "# Part 4: Save the Data"
   ]
  },
  {
   "cell_type": "markdown",
   "metadata": {
    "id": "VbMDnfukILc_"
   },
   "source": [
    "### Split the data for training and trading"
   ]
  },
  {
   "cell_type": "code",
   "execution_count": 18,
   "metadata": {
    "colab": {
     "base_uri": "https://localhost:8080/"
    },
    "id": "iEiXDdUhZP7R",
    "outputId": "554b1c09-6d6f-48fb-c724-351b40a2ddaf"
   },
   "outputs": [
    {
     "name": "stdout",
     "output_type": "stream",
     "text": [
      "83897\n",
      "9715\n"
     ]
    }
   ],
   "source": [
    "train = data_split(processed_full, TRAIN_START_DATE,TRAIN_END_DATE)\n",
    "trade = data_split(processed_full, TRADE_START_DATE,TRADE_END_DATE)\n",
    "print(len(train))\n",
    "print(len(trade))"
   ]
  },
  {
   "cell_type": "markdown",
   "metadata": {
    "id": "DflbzEV8IRhF"
   },
   "source": [
    "### Save data to csv file"
   ]
  },
  {
   "cell_type": "markdown",
   "metadata": {
    "id": "Tud3IZDzIUpd"
   },
   "source": [
    "For Colab users, you can open the virtual directory in colab and manually download the files.\n",
    "\n",
    "For users running on your local environment, the csv files should be at the same directory of this notebook."
   ]
  },
  {
   "cell_type": "code",
   "execution_count": 19,
   "metadata": {
    "id": "j2c12CpfHEjE"
   },
   "outputs": [],
   "source": [
    "train.to_csv('train_data.csv')\n",
    "trade.to_csv('trade_data.csv')"
   ]
  }
 ],
 "metadata": {
  "colab": {
   "provenance": []
  },
  "kernelspec": {
   "display_name": "base",
   "language": "python",
   "name": "python3"
  },
  "language_info": {
   "codemirror_mode": {
    "name": "ipython",
    "version": 3
   },
   "file_extension": ".py",
   "mimetype": "text/x-python",
   "name": "python",
   "nbconvert_exporter": "python",
   "pygments_lexer": "ipython3",
   "version": "3.11.7"
  }
 },
 "nbformat": 4,
 "nbformat_minor": 0
}
